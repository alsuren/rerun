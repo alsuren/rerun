{
 "cells": [
  {
   "attachments": {},
   "cell_type": "markdown",
   "metadata": {},
   "source": [
    "## Set up environment"
   ]
  },
  {
   "cell_type": "code",
   "execution_count": null,
   "metadata": {},
   "outputs": [],
   "source": [
    "import rerun as rr\n",
    "import numpy as np\n",
    "import cv2"
   ]
  },
  {
   "cell_type": "code",
   "execution_count": null,
   "metadata": {},
   "outputs": [],
   "source": [
    "!ls truck.jpg || wget https://raw.githubusercontent.com/facebookresearch/segment-anything/main/notebooks/images/truck.jpg"
   ]
  },
  {
   "attachments": {},
   "cell_type": "markdown",
   "metadata": {},
   "source": [
    "## Run one of these 3"
   ]
  },
  {
   "cell_type": "code",
   "execution_count": null,
   "metadata": {},
   "outputs": [],
   "source": [
    "# No blueprint control... set_panel doesn't work\n",
    "rr.init(\"Space\")\n",
    "rr.start_web_viewer_server()\n",
    "out = rr.memory_recording()"
   ]
  },
  {
   "cell_type": "code",
   "execution_count": null,
   "metadata": {},
   "outputs": [],
   "source": [
    "# Blueprint control, but no default view\n",
    "rr.init(\"Space\", init_logging=True, init_blueprint=True)\n",
    "rr.start_web_viewer_server()\n",
    "out = rr.memory_recording()"
   ]
  },
  {
   "cell_type": "code",
   "execution_count": null,
   "metadata": {},
   "outputs": [],
   "source": [
    "# Blueprint control on top of existing auto\n",
    "rr.init(\"Space\", init_logging=True, init_blueprint=True, append_blueprint=True)\n",
    "rr.start_web_viewer_server()\n",
    "out = rr.memory_recording()"
   ]
  },
  {
   "attachments": {},
   "cell_type": "markdown",
   "metadata": {},
   "source": [
    "## Use the Rerun APIs"
   ]
  },
  {
   "cell_type": "code",
   "execution_count": null,
   "metadata": {},
   "outputs": [],
   "source": [
    "out = rr.memory_recording()\n",
    "\n",
    "# TODO: make this one call\n",
    "rr.set_panel(\"blueprint_panel\", expanded=False)\n",
    "rr.set_panel(\"selection_panel\", expanded=False)\n",
    "rr.set_panel(\"timeline_panel\", expanded=False)\n",
    "\n",
    "image = cv2.imread('truck.jpg', cv2.IMREAD_COLOR)\n",
    "image = cv2.cvtColor(image, cv2.COLOR_BGR2RGB)\n",
    "\n",
    "scale_percent = 100 # percent of original size\n",
    "width = int(image.shape[1] * scale_percent / 100)\n",
    "height = int(image.shape[0] * scale_percent / 100)\n",
    "dim = (width, height)\n",
    "  \n",
    "# resize image\n",
    "resized = cv2.resize(image, dim, interpolation = cv2.INTER_AREA)\n",
    "\n",
    "rr.log_image('truck', resized)\n",
    "out"
   ]
  }
 ],
 "metadata": {
  "kernelspec": {
   "display_name": "Python 3 (ipykernel)",
   "language": "python",
   "name": "python3"
  },
  "language_info": {
   "codemirror_mode": {
    "name": "ipython",
    "version": 3
   },
   "file_extension": ".py",
   "mimetype": "text/x-python",
   "name": "python",
   "nbconvert_exporter": "python",
   "pygments_lexer": "ipython3",
   "version": "3.10.7"
  }
 },
 "nbformat": 4,
 "nbformat_minor": 2
}
