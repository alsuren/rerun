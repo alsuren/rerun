{
 "cells": [
  {
   "attachments": {},
   "cell_type": "markdown",
   "metadata": {},
   "source": [
    "## Set up environment"
   ]
  },
  {
   "cell_type": "code",
   "execution_count": null,
   "metadata": {},
   "outputs": [],
   "source": [
    "import rerun as rr\n",
    "import numpy as np\n",
    "import cv2"
   ]
  },
  {
   "cell_type": "code",
   "execution_count": null,
   "metadata": {},
   "outputs": [],
   "source": [
    "!ls truck.jpg || wget https://raw.githubusercontent.com/facebookresearch/segment-anything/main/notebooks/images/truck.jpg"
   ]
  },
  {
   "attachments": {},
   "cell_type": "markdown",
   "metadata": {},
   "source": [
    "## Run one of these 4"
   ]
  },
  {
   "cell_type": "code",
   "execution_count": null,
   "metadata": {},
   "outputs": [],
   "source": [
    "# No blueprint control... set_panel doesn't work\n",
    "rr.init(\"Space\")\n",
    "rr.start_web_viewer_server()\n",
    "out = rr.memory_recording()\n",
    "\n",
    "ENABLE_HEURISTICS = False"
   ]
  },
  {
   "cell_type": "code",
   "execution_count": null,
   "metadata": {},
   "outputs": [],
   "source": [
    "# Blueprint control, but no default view\n",
    "rr.init(\"Space\", init_logging=True, init_blueprint=True)\n",
    "rr.start_web_viewer_server()\n",
    "out = rr.memory_recording()\n",
    "\n",
    "ENABLE_HEURISTICS = False"
   ]
  },
  {
   "cell_type": "code",
   "execution_count": null,
   "metadata": {},
   "outputs": [],
   "source": [
    "# Blueprint control on top of existing auto\n",
    "rr.init(\"Space\", init_logging=True, init_blueprint=True, append_blueprint=True)\n",
    "rr.start_web_viewer_server()\n",
    "out = rr.memory_recording()\n",
    "\n",
    "ENABLE_HEURISTICS = False"
   ]
  },
  {
   "cell_type": "code",
   "execution_count": null,
   "metadata": {},
   "outputs": [],
   "source": [
    "# Blueprint control on top of manual auto (for notebooks this is almost identical to the above)\n",
    "rr.init(\"Space\", init_logging=True, init_blueprint=True)\n",
    "rr.start_web_viewer_server()\n",
    "\n",
    "ENABLE_HEURISTICS = True\n",
    "# We can't do this here, we need to do it AFTER we reset the memory recording\n",
    "# rr.enable_heuristics()"
   ]
  },
  {
   "attachments": {},
   "cell_type": "markdown",
   "metadata": {},
   "source": [
    "## Use the Rerun APIs"
   ]
  },
  {
   "cell_type": "code",
   "execution_count": null,
   "metadata": {},
   "outputs": [],
   "source": [
    "# This resets the Recording AND the blueprint\n",
    "out = rr.memory_recording()\n",
    "\n",
    "if ENABLE_HEURISTICS:\n",
    "    rr.enable_heuristics()\n",
    "\n",
    "# TODO: make this one call\n",
    "rr.set_panel(\"blueprint_panel\", expanded=False)\n",
    "rr.set_panel(\"selection_panel\", expanded=False)\n",
    "rr.set_panel(\"timeline_panel\", expanded=False)\n",
    "\n",
    "image = cv2.imread(\"truck.jpg\", cv2.IMREAD_COLOR)\n",
    "image = cv2.cvtColor(image, cv2.COLOR_BGR2RGB)\n",
    "\n",
    "rr.log_image(\"truck\", image)\n",
    "out"
   ]
  },
  {
   "cell_type": "code",
   "execution_count": null,
   "metadata": {},
   "outputs": [],
   "source": [
    "flipped = cv2.flip(image, 1)\n",
    "rr.log_image(\"flipped\", flipped)\n",
    "out"
   ]
  },
  {
   "cell_type": "code",
   "execution_count": null,
   "metadata": {},
   "outputs": [],
   "source": [
    "out.reset_blueprint()\n",
    "rr.set_panel(\"blueprint_panel\", expanded=False)\n",
    "rr.set_panel(\"selection_panel\", expanded=False)\n",
    "rr.set_panel(\"timeline_panel\", expanded=False)\n",
    "rr.add_space_view(\"composite\", \"/\", [\"truck\", \"flipped\"])\n",
    "out"
   ]
  }
 ],
 "metadata": {
  "kernelspec": {
   "display_name": "Python 3 (ipykernel)",
   "language": "python",
   "name": "python3"
  },
  "language_info": {
   "codemirror_mode": {
    "name": "ipython",
    "version": 3
   },
   "file_extension": ".py",
   "mimetype": "text/x-python",
   "name": "python",
   "nbconvert_exporter": "python",
   "pygments_lexer": "ipython3",
   "version": "3.10.7"
  }
 },
 "nbformat": 4,
 "nbformat_minor": 2
}
