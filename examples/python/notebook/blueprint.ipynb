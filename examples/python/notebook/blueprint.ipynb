{
 "cells": [
  {
   "attachments": {},
   "cell_type": "markdown",
   "metadata": {},
   "source": [
    "### Set up environment"
   ]
  },
  {
   "cell_type": "code",
   "execution_count": null,
   "metadata": {},
   "outputs": [],
   "source": [
    "import numpy as np\n",
    "import rerun as rr"
   ]
  },
  {
   "attachments": {},
   "cell_type": "markdown",
   "metadata": {},
   "source": [
    "### Initialize Rerun"
   ]
  },
  {
   "cell_type": "code",
   "execution_count": null,
   "metadata": {},
   "outputs": [],
   "source": [
    "rr.init(\"Blueprint\")\n",
    "rr.start_web_viewer_server()\n",
    "\n",
    "out = rr.memory_recording()"
   ]
  },
  {
   "attachments": {},
   "cell_type": "markdown",
   "metadata": {},
   "source": [
    "### Log Some Data"
   ]
  },
  {
   "cell_type": "code",
   "execution_count": null,
   "metadata": {},
   "outputs": [],
   "source": [
    "img = np.zeros([128, 128, 3], dtype=\"uint8\")\n",
    "for i in range(8):\n",
    "    img[(i*16)+4:(i*16)+12,:] = (0, 0, 200)\n",
    "    rr.log_image(\"image\", img)\n",
    "    rr.log_rect(\"rect/0\", [16, 16, 64, 64], label=\"Rect1\", color=(255, 0, 0))\n",
    "    rr.log_rect(\"rect/1\", [48, 48, 64, 64], label=\"Rect2\", color=(0, 255, 0))\n",
    "\n",
    "out"
   ]
  },
  {
   "attachments": {},
   "cell_type": "markdown",
   "metadata": {},
   "source": [
    "### Add a space view"
   ]
  },
  {
   "cell_type": "code",
   "execution_count": null,
   "metadata": {},
   "outputs": [],
   "source": [
    "rr.add_space_view(\"overlaid\", \"/\", [\"image\", \"rect/0\", \"rect/1\"])\n",
    "\n",
    "out"
   ]
  },
  {
   "attachments": {},
   "cell_type": "markdown",
   "metadata": {},
   "source": [
    "### Reset the Blueprint"
   ]
  },
  {
   "cell_type": "code",
   "execution_count": null,
   "metadata": {},
   "outputs": [],
   "source": [
    "out.reset_blueprint()\n",
    "\n",
    "rr.set_panel(\"blueprint_panel\", expanded=False)\n",
    "rr.set_panel(\"selection_panel\", expanded=False)\n",
    "rr.set_panel(\"timeline_panel\", expanded=False)\n",
    "\n",
    "rr.add_space_view(\"overlaid\", \"/\", [\"image\", \"rect/0\", \"rect/1\"])\n",
    "\n",
    "out"
   ]
  }
 ],
 "metadata": {
  "kernelspec": {
   "display_name": "Python 3 (ipykernel)",
   "language": "python",
   "name": "python3"
  },
  "language_info": {
   "codemirror_mode": {
    "name": "ipython",
    "version": 3
   },
   "file_extension": ".py",
   "mimetype": "text/x-python",
   "name": "python",
   "nbconvert_exporter": "python",
   "pygments_lexer": "ipython3",
   "version": "3.10.7"
  }
 },
 "nbformat": 4,
 "nbformat_minor": 2
}
